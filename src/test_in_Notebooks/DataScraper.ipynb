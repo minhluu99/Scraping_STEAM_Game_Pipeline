{
 "cells": [
  {
   "cell_type": "code",
   "execution_count": 1,
   "metadata": {},
   "outputs": [
    {
     "name": "stdout",
     "output_type": "stream",
     "text": [
      "dict_keys(['success', 'results_html', 'total_count', 'start'])\n",
      "129344\n"
     ]
    }
   ],
   "source": [
    "import requests\n",
    "import bs4\n",
    "from bs4 import BeautifulSoup\n",
    "import json\n",
    "import pandas as pd\n",
    "from argparse import Namespace\n",
    "\n",
    "# open steam search\n",
    "# open Network Web Inspector and Debugger \n",
    "# scorll down, you will findout '?query' line\n",
    "# Look at it's Headers, you can find the bellow link \n",
    "\n",
    "url = 'https://store.steampowered.com/search/results/?query&start=0&count=50&dynamic_data=&sort_by=_ASC&supportedlang=english&snr=1_7_7_230_7&infinite=1'\n",
    "\n",
    "# the request will return a json object, you can see it if open in browser\n",
    "r = requests.get(url)\n",
    "data = r.json()\n",
    "\n",
    "# this object has 4 key\n",
    "# there are two key that we consider\n",
    "# 'results_html' including each parser_element of game\n",
    "# 'total_count' is total of game\n",
    "print(data.keys())\n",
    "print(data['total_count'])"
   ]
  },
  {
   "cell_type": "code",
   "execution_count": 2,
   "metadata": {},
   "outputs": [
    {
     "name": "stdout",
     "output_type": "stream",
     "text": [
      "<class 'bs4.element.Tag'> True\n"
     ]
    }
   ],
   "source": [
    "soup = BeautifulSoup(data['results_html'],'html.parser')\n",
    "games = soup.find_all('a')\n",
    "print(type(games[0]) , type(games[0]) == bs4.element.Tag) "
   ]
  },
  {
   "cell_type": "code",
   "execution_count": 4,
   "metadata": {},
   "outputs": [
    {
     "name": "stdout",
     "output_type": "stream",
     "text": [
      "{'id': 1326470, 'name': 'Sons Of The Forest', 'platform': 'win', 'vr_supported': False, 'release_date': 'Feb 23, 2023', 'url': 'https://store.steampowered.com/app/1326470/Sons_Of_The_Forest/', 'price': '$29.99', 'disprice': '$29.99', 'review': 'Very Positive<br>82% of the 68,497 user reviews for this game are positive.'}\n",
      "{'id': 1085660, 'name': 'Destiny 2', 'platform': 'win', 'vr_supported': False, 'release_date': 'Oct 1, 2019', 'url': 'https://store.steampowered.com/app/1085660/Destiny_2/', 'price': 'Free To Play', 'disprice': 'Free To Play', 'review': 'Very Positive<br>83% of the 524,564 user reviews for this game are positive.'}\n",
      "{'id': 730, 'name': 'Counter-Strike: Global Offensive', 'platform': 'win', 'vr_supported': False, 'release_date': 'Aug 21, 2012', 'url': 'https://store.steampowered.com/app/730/CounterStrike_Global_Offensive/', 'price': '0', 'disprice': '0', 'review': 'Very Positive<br>88% of the 6,972,389 user reviews for this game are positive.'}\n",
      "{'id': 990080, 'name': 'Hogwarts Legacy', 'platform': 'win', 'vr_supported': False, 'release_date': 'Feb 10, 2023', 'url': 'https://store.steampowered.com/app/990080/Hogwarts_Legacy/', 'price': '$59.99', 'disprice': '$59.99', 'review': 'Very Positive<br>93% of the 120,306 user reviews for this game are positive.'}\n",
      "{'id': 1172470, 'name': 'Apex Legends™', 'platform': 'win', 'vr_supported': False, 'release_date': 'Nov 4, 2020', 'url': 'https://store.steampowered.com/app/1172470/Apex_Legends/', 'price': '0', 'disprice': '0', 'review': 'Very Positive<br>83% of the 606,997 user reviews for this game are positive.'}\n"
     ]
    }
   ],
   "source": [
    "# get information from Data['results_html']\n",
    "\n",
    "game_list = []\n",
    "\n",
    "# for each game, we get id, name, platform,release_date, url, price, disprice, review\n",
    "for game in games[:5]:\n",
    "    idx = int(game.get('data-ds-appid'))\n",
    "    name = game.find('span',{'class':'title'}).text\n",
    "    platform = ', '.join(game.find('span',{'class':\"platform_img\"}).get('class')[1:])\n",
    "    vr_supported = 'True' if game.find('span',{'class':\"VR Supported\"}) else False\n",
    "    try: \n",
    "        release_date = game.find('div',{'class':\"search_released\"}).text\n",
    "    except:\n",
    "        release_date = None\n",
    "    url = game.get('href').split('?snr=')[0]\n",
    "    price = game.find('div',{'class':\"search_price\"}).text.strip().split('₫')[0]\n",
    "    if price == 'Free to Play':\n",
    "        price = '0'\n",
    "    try:\n",
    "        disprice = game.find('div',{'class':\"search_price\"}).text.strip().split('₫')[1]\n",
    "    except:\n",
    "        disprice = price\n",
    "    review = game.find('span',{'class':\"search_review_summary\"}).get('data-tooltip-html')\n",
    "\n",
    "    return_dict = {\n",
    "        'id' : idx,\n",
    "        'name' : name,\n",
    "        'platform' : platform,\n",
    "        'vr_supported': vr_supported,\n",
    "        'release_date':release_date,\n",
    "        'url':url,\n",
    "        'price':price,\n",
    "        'disprice':disprice,\n",
    "        'review':review\n",
    "    }    \n",
    "    with open(\"/mnt/d/Github/Steam_ETL/output_example/parse_task.txt\",'a+') as f:\n",
    "        f.write(str(return_dict)+'\\n')\n",
    "    print(str(return_dict))"
   ]
  },
  {
   "cell_type": "code",
   "execution_count": 74,
   "metadata": {},
   "outputs": [
    {
     "name": "stdout",
     "output_type": "stream",
     "text": [
      "Saved to csv\n"
     ]
    }
   ],
   "source": [
    "gamesdf = pd.DataFrame(game_list)\n",
    "gamesdf.to_csv('game_prices.csv',index=False)\n",
    "print('Saved to csv')"
   ]
  },
  {
   "cell_type": "code",
   "execution_count": 2,
   "metadata": {},
   "outputs": [],
   "source": [
    "import mysql.connector\n",
    "mydb = mysql.connector.connect(\n",
    "  host=\"10.210.58.45\",\n",
    "  user=\"wsl_percent\",\n",
    "  password=\"pass\",\n",
    "  allow_local_infile=True\n",
    ")\n",
    "mycursor = mydb.cursor()"
   ]
  },
  {
   "cell_type": "code",
   "execution_count": 4,
   "metadata": {},
   "outputs": [
    {
     "name": "stdout",
     "output_type": "stream",
     "text": [
      "('wsl_percent',)\n",
      "('mysql.infoschema',)\n",
      "('mysql.session',)\n",
      "('mysql.sys',)\n",
      "('root',)\n",
      "('wsl_local',)\n"
     ]
    }
   ],
   "source": [
    "# test case\n",
    "command_ = \"\"\"select distinct user from mysql.user;\n",
    "\"\"\"\n",
    "mycursor = mydb.cursor()\n",
    "mycursor.execute(command_.replace('\\n',\" \"))\n",
    "\n",
    "myresult = mycursor.fetchall()\n",
    "\n",
    "for x in myresult:\n",
    "  print(x)"
   ]
  }
 ],
 "metadata": {
  "kernelspec": {
   "display_name": "STEAM_linux",
   "language": "python",
   "name": "python3"
  },
  "language_info": {
   "codemirror_mode": {
    "name": "ipython",
    "version": 3
   },
   "file_extension": ".py",
   "mimetype": "text/x-python",
   "name": "python",
   "nbconvert_exporter": "python",
   "pygments_lexer": "ipython3",
   "version": "3.8.10"
  },
  "orig_nbformat": 4,
  "vscode": {
   "interpreter": {
    "hash": "30022164202e5082751234701acd24fc3979f08a2c123871186360f1e0646b35"
   }
  }
 },
 "nbformat": 4,
 "nbformat_minor": 2
}
